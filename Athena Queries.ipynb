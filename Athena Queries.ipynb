{
  "cells": [
    {
      "cell_type": "markdown",
      "source": [
        "# **Projeto: Consulta e análise dados com SQL**"
      ],
      "metadata": {
        "id": "jNYTeB69zv7R"
      },
      "id": "jNYTeB69zv7R"
    },
    {
      "cell_type": "markdown",
      "source": [
        "Caderno de **Portfolio**<br>\n",
        "[Christian Oliveira](https://www.linkedin.com/in/christian-oliveira-925532257/) - [Github](https://github.com/VariableBee)\n",
        "\n",
        "---"
      ],
      "metadata": {
        "id": "YeSAgqTaz1Qa"
      },
      "id": "YeSAgqTaz1Qa"
    },
    {
      "cell_type": "markdown",
      "source": [
        "## **Tópicos**\n",
        "\n",
        "<ol type=\"1\">\n",
        "  <li>Introdução;</li>\n",
        "  <li>Análise Exploratória de Dados;</li>\n",
        "  <li>Insights e Conclusão;</li>\n",
        "</ol>"
      ],
      "metadata": {
        "id": "deTDwb-az4kT"
      },
      "id": "deTDwb-az4kT"
    },
    {
      "cell_type": "markdown",
      "source": [
        "## **1\\. Introdução**"
      ],
      "metadata": {
        "id": "Frz9oNTkz8LS"
      },
      "id": "Frz9oNTkz8LS"
    },
    {
      "cell_type": "markdown",
      "source": [
        "- **Etapas**:\n",
        "  - Criação do Bucket no AWSS3;\n",
        "  - Criação da tabela AWS Athena;\n",
        "  - SQL Querys ao banco de dados;\n",
        "  - Análise e Storytelling;\n",
        "  - Conclusão.\n",
        "\n",
        "- **Fontes**:\n",
        "  - A tabela foi criada no **AWS Athena** junto com o **S3 Bucket** com uma versão dos dados disponibilizados em: ([link](https://github.com/andre-marcos-perez/ebac-course-utils/tree/main/dataset));"
      ],
      "metadata": {
        "id": "kc5bowaBz_Zp"
      },
      "id": "kc5bowaBz_Zp"
    },
    {
      "cell_type": "markdown",
      "source": [
        "### **Objetivo**"
      ],
      "metadata": {
        "id": "tRGSyIQx1JWa"
      },
      "id": "tRGSyIQx1JWa"
    },
    {
      "cell_type": "markdown",
      "source": [
        "Este estudo tem como principal motivação compreender o perfil dos clientes de cartão de crédito em nossa base de dados e identificar padrões significativos que possam guiar a tomada de decisões estratégicas."
      ],
      "metadata": {
        "id": "we_Q-M8M1J-P"
      },
      "id": "we_Q-M8M1J-P"
    },
    {
      "cell_type": "markdown",
      "source": [
        "## **Os dados:**"
      ],
      "metadata": {
        "id": "XUMpyngB1R6w"
      },
      "id": "XUMpyngB1R6w"
    },
    {
      "cell_type": "markdown",
      "id": "97ba6770",
      "metadata": {
        "papermill": {
          "duration": 0.004304,
          "end_time": "2021-07-20T20:16:13.383287",
          "exception": false,
          "start_time": "2021-07-20T20:16:13.378983",
          "status": "completed"
        },
        "tags": [],
        "id": "97ba6770"
      },
      "source": [
        "Os dados representam informações de clientes de um banco e contam com as seguintes colunas:\n",
        "\n",
        "* idade = idade do cliente\n",
        "* sexo = sexo do cliente (F ou M)\n",
        "* dependentes = número de dependentes do cliente\n",
        "* escolaridade = nível de escolaridade do clientes\n",
        "* salario_anual = faixa salarial do cliente\n",
        "* tipo_cartao = tipo de cartao do cliente\n",
        "* qtd_produtos = quantidade de produtos comprados nos últimos 12 meses\n",
        "* iteracoes_12m = quantidade de iterações/transacoes nos ultimos 12 meses\n",
        "* meses_inativo_12m = quantidade de meses que o cliente ficou inativo\n",
        "* limite_credito = limite de credito do cliente\n",
        "* valor_transacoes_12m = valor das transações dos ultimos 12 meses\n",
        "* qtd_transacoes_12m  = quantidade de transacoes dos ultimos 12 meses\n",
        "\n",
        "\n",
        "\n",
        "\n",
        "\n"
      ]
    },
    {
      "cell_type": "markdown",
      "source": [
        "## **2\\. Análise Exploratória de Dados**"
      ],
      "metadata": {
        "id": "HftdVayp1id6"
      },
      "id": "HftdVayp1id6"
    },
    {
      "cell_type": "markdown",
      "source": [
        "### **Exploração**"
      ],
      "metadata": {
        "id": "5MdIGMke1yv_"
      },
      "id": "5MdIGMke1yv_"
    },
    {
      "cell_type": "markdown",
      "source": [
        "A primeira fase da análise é a **exploração**. Assim podemos entender melhor os dados que estamos trabalhando com, fazendo perguntas aos dados:"
      ],
      "metadata": {
        "id": "1NbVxKtw4A50"
      },
      "id": "1NbVxKtw4A50"
    },
    {
      "cell_type": "markdown",
      "source": [
        "**Qual a quantidade de informações temos na nossa base de dados?**\n",
        "```\n",
        "Query: SELECT count() FROM credito\n",
        "\n",
        "> Reposta: 2564 linhas\n",
        "```"
      ],
      "metadata": {
        "id": "TqOKUvLM39gF"
      },
      "id": "TqOKUvLM39gF"
    },
    {
      "cell_type": "markdown",
      "source": [
        "\n",
        "\n",
        "Vamos trabalhar com uma fração dos dados. Na prática, quanto maior a quantidade de dados utilizada, mais confiável a análise! Mas os recursos computacionais e financeiros devem ser levados em consideração em cada caso. Como essa é uma análise para fins de estudo, a redução do volume de dados se torna interessante."
      ],
      "metadata": {
        "id": "di9rOhiu4JPY"
      },
      "id": "di9rOhiu4JPY"
    },
    {
      "cell_type": "markdown",
      "source": [
        "```\n",
        "Query: SELECT * FROM credito LIMIT 10;\n",
        "\n",
        "|  #  | idade | sexo | dependentes | escolaridade        | estado_civil | salario_anual      | tipo_cartao | qtd_produtos | interaces_12m | meses_inativo | limite_credito | valor_transacoes_12m | qtd_transacoes |\n",
        "|----|-------|------|-------------|---------------------|--------------|--------------------|-------------|--------------|---------------|--------------|----------------|----------------------|----------------|\n",
        "|  1 |  45   |  M   |     3       | ensino medio        | casado       | $60K - $80K        | blue        |     5        |      3        |      1       |   12691.51     |        1144.9         |       42       |\n",
        "|  2 |  49   |  F   |     5       | mestrado            | solteiro     | menos que $40K     | blue        |     6        |      2        |      1       |    8256.96     |       1291.45         |       33       |\n",
        "|  3 |  51   |  M   |     3       | mestrado            | casado       | $80K - $120K       | blue        |     4        |      0        |      1       |    3418.56     |       1887.72         |       20       |\n",
        "|  4 |  40   |  F   |     4       | ensino medio        | na           | menos que $40K     | blue        |     3        |      1        |      4       |    3313.03     |       1171.56         |       20       |\n",
        "|  5 |  40   |  M   |     3       | sem educacao formal | casado       | $60K - $80K        | blue        |     5        |      0        |      1       |    4716.22     |        816.08         |       28       |\n",
        "|  6 |  44   |  M   |     2       | mestrado            | casado       | $40K - $60K        | blue        |     3        |      2        |      1       |    4010.69     |       1088.07         |       24       |\n",
        "|  7 |  51   |  M   |     4       | na                  | casado       | $120K +            | gold        |     6        |      3        |      1       |   34516.72     |       1330.87         |       31       |\n",
        "|  8 |  32   |  M   |     0       | ensino medio        | na           | $60K - $80K        | silver      |     2        |      2        |      2       |   29081.49     |       1538.32         |       36       |\n",
        "|  9 |  37   |  M   |     3       | sem educacao formal | solteiro     | $60K - $80K        | blue        |     5        |      0        |      2       |   22352.5      |       1350.14         |       24       |\n",
        "| 10 |  48   |  M   |     2       | mestrado            | solteiro     | $80K - $120K       | blue        |     6        |      3        |      3       |   11656.41     |       1441.73         |       32       |\n",
        "\n",
        "```"
      ],
      "metadata": {
        "id": "kl4LA2Hv5bcG"
      },
      "id": "kl4LA2Hv5bcG"
    },
    {
      "cell_type": "markdown",
      "source": [
        "Existem dados faltantes na tabela. Vamos considerar como e se há necessidade de tratá-los, mas primeiro:\n",
        "\n",
        "**Quais os tipos de cada dado?**"
      ],
      "metadata": {
        "id": "ILir_GLP5b5Y"
      },
      "id": "ILir_GLP5b5Y"
    },
    {
      "cell_type": "markdown",
      "source": [
        "```\n",
        "Query: DESCRIBE credito\n",
        "\n",
        "| Coluna              | Tipo     |\n",
        "|---------------------|----------|\n",
        "| idade               | int      |\n",
        "| sexo                | string   |\n",
        "| dependentes         | int      |\n",
        "| escolaridade        | string   |\n",
        "| estado_civil        | string   |\n",
        "| salario_anual       | string   |\n",
        "| tipo_cartao         | string   |\n",
        "| qtd_produtos        | bigint   |\n",
        "| interaces_12m       | int      |\n",
        "| meses_inativo       | int      |\n",
        "| limite_credito      | float    |\n",
        "| valor_transacoes_12m| float    |\n",
        "| qtd_transacoes      | int      |\n",
        "```"
      ],
      "metadata": {
        "id": "8n4deZhu5vrC"
      },
      "id": "8n4deZhu5vrC"
    },
    {
      "cell_type": "markdown",
      "source": [
        "Vamos explorar melhor cada tipo de dado pensando em como tratar os dados faltantes de cada tipo."
      ],
      "metadata": {
        "id": "Y81KUYQx55Do"
      },
      "id": "Y81KUYQx55Do"
    },
    {
      "cell_type": "markdown",
      "source": [
        "**Quais variáveis não numéricas que possuem dados faltantes?**"
      ],
      "metadata": {
        "id": "RoZ0sv6V566A"
      },
      "id": "RoZ0sv6V566A"
    },
    {
      "cell_type": "markdown",
      "source": [
        "```\n",
        "Query: SELECT DISTINCT escolaridade FROM credito\n",
        "\n",
        "|  #  |   escolaridade         |\n",
        "|----|-------------------------|\n",
        "|  1 | mestrado                |\n",
        "|  2 | graduacao               |\n",
        "|  3 | doutorado               |\n",
        "|  4 | sem educacao formal     |\n",
        "|  5 | ensino medio            |\n",
        "|  6 | na                      |\n",
        "\n",
        "> Valores nulos (na) identificados em escolaridade.\n",
        "```"
      ],
      "metadata": {
        "id": "xJGewP005_6_"
      },
      "id": "xJGewP005_6_"
    },
    {
      "cell_type": "markdown",
      "source": [
        "```\n",
        "Query: SELECT DISTINCT estado_civil  FROM credito\n",
        "\n",
        "|  # | estado_civil |\n",
        "|----|---------------|\n",
        "|  1 | na            |\n",
        "|  2 | casado        |\n",
        "|  3 | divorciado    |\n",
        "|  4 | solteiro      |\n",
        "\n",
        "> Novamente encontramos valores nulos nos dados de estado civil.\n",
        "```"
      ],
      "metadata": {
        "id": "VAmGhVCc6Tm7"
      },
      "id": "VAmGhVCc6Tm7"
    },
    {
      "cell_type": "markdown",
      "source": [
        "```\n",
        "Query: SELECT DISTINCT salario_anual  FROM credito\n",
        "\n",
        "|  # |     salario_anual     |\n",
        "|----|-----------------------|\n",
        "|  1 |     $80K - $120K      |\n",
        "|  2 |     $60K - $80K       |\n",
        "|  3 |     $40K - $60K       |\n",
        "|  4 |     $120K +           |\n",
        "|  5 |     menos que $40K    |\n",
        "|  6 |     na                |\n",
        "\n",
        "\n",
        ">Também contem dados nulos.\n",
        "```"
      ],
      "metadata": {
        "id": "XKZ-0x_W11W4"
      },
      "id": "XKZ-0x_W11W4"
    },
    {
      "cell_type": "markdown",
      "source": [
        "**Ps:** Os salários nesse dataset não estão expostas com o valor exato que o cliente ganha. O que está informado é a faixa salarial de cada um. Isso de certa forma pode ser vantajoso para definirmos um público alvo por faixa salarial."
      ],
      "metadata": {
        "id": "w1ekXMopwDWR"
      },
      "id": "w1ekXMopwDWR"
    },
    {
      "cell_type": "markdown",
      "source": [
        "**Quais são os tipos de cartão disponíveis no dataset?**\n",
        "```\n",
        "Query: SELECT DISTINCT tipo_cartao  FROM credito\n",
        "\n",
        "|  #  | tipo_cartao |\n",
        "|----|------------|\n",
        "|  1 | platinum   |\n",
        "|  2 | silver     |\n",
        "|  3 | blue       |\n",
        "|  4 | gold       |\n",
        "\n",
        "\n",
        "> Aqui vemos que não há necessidade de tratar valores nulos.\n",
        "```"
      ],
      "metadata": {
        "id": "AZCQy_Dc8vv7"
      },
      "id": "AZCQy_Dc8vv7"
    },
    {
      "cell_type": "markdown",
      "source": [
        "## **Análise de dados**\n"
      ],
      "metadata": {
        "id": "6OF1qbdKEzTh"
      },
      "id": "6OF1qbdKEzTh"
    },
    {
      "cell_type": "markdown",
      "source": [
        "Agora que estamos familiarizados com nossos dados, podemos analisar as informações. Vamos fazer perguntas:"
      ],
      "metadata": {
        "id": "EdK6YRExE60I"
      },
      "id": "EdK6YRExE60I"
    },
    {
      "cell_type": "markdown",
      "id": "001394fe",
      "metadata": {
        "papermill": {
          "duration": 0.003098,
          "end_time": "2021-07-20T20:16:13.390195",
          "exception": false,
          "start_time": "2021-07-20T20:16:13.387097",
          "status": "completed"
        },
        "tags": [],
        "id": "001394fe"
      },
      "source": [
        "**Quantos clientes temos de cada faixa salarial?**\n",
        "\n",
        "```\n",
        "Query: select count(*), salario_anual from credito group by salario_anual\n",
        "\n",
        "| _col0 | salario_anual   |\n",
        "|-------|-----------------|\n",
        "| 451   | $60K - $80K     |\n",
        "| 467   | $40K - $60K     |\n",
        "| 222   | $120K +         |\n",
        "| 488   | $80K - $120K    |\n",
        "| 701   | menos que $40K  |\n",
        "| 235   | na              |\n",
        "\n",
        "```\n",
        "Vamos analisar esses dados por um momento\n",
        "\n",
        "\n",
        "- Alta Renda: 710 clientes recebem mais de $80.000\n",
        "\n",
        "- Renda média: 918 clientes recebem entre $40/80k\n",
        "\n",
        "- Baixa renda: 701 clientes recebem abaixo dos $40.000\n",
        "\n",
        "Desconsiderando os 235 clientes que não informaram ou não consta a faixa salarial.\n",
        "\n",
        "Essa informação pode ser **bastsante valiosa**. Baseado na renda é possível definir aqueles clientes como público alvo para uma determinada campanha, estratégia, ou objetivo da empresa.\n",
        "\n",
        "\n",
        "\n",
        "\n",
        "\n",
        "\n",
        "\n",
        "\n"
      ]
    },
    {
      "cell_type": "markdown",
      "source": [
        "**Qual a proporção de clientes do sexo masculino/feminino?**\n",
        "```\n",
        "Query: select count(*), sexo from credito group by sexo\n",
        "\n",
        "| _col0 | sexo |\n",
        "|-------|------|\n",
        "| 1563  | M    |\n",
        "| 1001  | F    |\n",
        "\n",
        "\n",
        "> A maioria dos clientes é do sexo masculino.\n",
        "```"
      ],
      "metadata": {
        "id": "CL1PLjU3EDOf"
      },
      "id": "CL1PLjU3EDOf"
    },
    {
      "cell_type": "markdown",
      "source": [
        "**Qual é a idade média dos clientes por sexo?**\n",
        "```\n",
        "Query: select avg(idade) as media_idade, min(idade) as min_idade, max(idade) as max_idade, sexo from credito group by sexo\n",
        "\n",
        "| # | media_idade        | min_idade | max_idade | sexo |\n",
        "|---|--------------------|-----------|-----------|------|\n",
        "| 1 | 46.42957042957043 | 26        | 67        | F    |\n",
        "| 2 | 45.57389635316699 | 26        | 73        | M    |\n",
        "\n",
        "\n",
        "> Por meio dessa análise não foi possível extrair nenhuma informação relevante para a empresa.\n",
        "```"
      ],
      "metadata": {
        "id": "PvYtBs7HENod"
      },
      "id": "PvYtBs7HENod"
    },
    {
      "cell_type": "markdown",
      "source": [
        "**Mas e quanto a idade média por salário?**\n",
        "```\n",
        "Query: SELECT idade, AVG(CAST(salario_anual AS DOUBLE)) AS salario_medio FROMcredito\n",
        "GROUP BY idade;\n",
        "\n",
        "salario_anual      | media_idade\n",
        "-------------------|-------------\n",
        "menos que 40K      | 45\n",
        "40K - 60K          | 45\n",
        "60K - 80K          | 45\n",
        "80K - 120K         | 46\n",
        "120K +             | 47\n",
        "na                 | 45\n",
        "\n",
        "> Nada muito conclusivo também.\n",
        "```"
      ],
      "metadata": {
        "id": "5LOEE3zmJDvy"
      },
      "id": "5LOEE3zmJDvy"
    },
    {
      "cell_type": "markdown",
      "source": [
        "**Ps:** Vamos faser as próximas querys já lidando com os dados faltantes."
      ],
      "metadata": {
        "id": "MjhW3KhYIiyh"
      },
      "id": "MjhW3KhYIiyh"
    },
    {
      "cell_type": "markdown",
      "source": [
        "**Quais as características dos clientes que possuem os maiores creditos?**\n",
        "```\n",
        "Query:\n",
        "select max(limite_credito) as limite_credito, escolaridade, tipo_cartao, sexo\n",
        "from credito where escolaridade != 'na' and tipo_cartao != 'na'group by  escolaridade, tipo_cartao, sexo order by limite_credito desc limit 10\n",
        "\n",
        "| limite_credito | escolaridade       | tipo_cartao | sexo |\n",
        "|----------------|--------------------|-------------|------|\n",
        "| 34516.99       | sem educacao formal | blue        | M    |\n",
        "| 34516.98       | mestrado            | gold        | M    |\n",
        "| 34516.97       | mestrado            | blue        | M    |\n",
        "| 34516.96       | sem educacao formal | silver      | M    |\n",
        "| 34516.96       | doutorado           | platinum    | F    |\n",
        "| 34516.95       | ensino medio        | gold        | M    |\n",
        "| 34516.94       | graduacao           | gold        | F    |\n",
        "| 34516.94       | graduacao           | gold        | M    |\n",
        "| 34516.89       | graduacao           | silver      | M    |\n",
        "| 34516.74       | ensino medio        | blue        | M    |\n",
        "\n",
        "> Não parece haver um impacto da escolaridade no limite.\n",
        "> O limite mais alto é oferecido para um cliente do sexo masculino sem educação formal.\n",
        "> O cartão também parece não estar relacionado com a escolaridade nem com o limite.\n",
        "> Dentre os maiores limites, encontramos clientes com cartão: gold, silver, platinum e blue\n",
        "```"
      ],
      "metadata": {
        "id": "jV4IHIAuEYp2"
      },
      "id": "jV4IHIAuEYp2"
    },
    {
      "cell_type": "markdown",
      "source": [
        "\n",
        "**Quais as características dos clientes que possuem os menores creditos?**\n",
        "```\n",
        "Query\n",
        "select max(limite_credito) as limite_credito, escolaridade, tipo_cartao, sexo\n",
        "from credito\n",
        "where escolaridade != 'na' and tipo_cartao != 'na'\n",
        "group by  escolaridade, tipo_cartao, sexo\n",
        "order by limite_credito asc\n",
        "\n",
        "|   # | limite_credito   | escolaridade        | tipo_cartao   | sexo   |\n",
        "|---:|:-----------------|:--------------------|:--------------|:-------|\n",
        "|  1 | 13,882.37        | ensino medio         | silver        | F      |\n",
        "|  2 | 15,534.85        | ensino medio         | gold          | F      |\n",
        "|  3 | 15,987.78        | mestrado             | gold          | F      |\n",
        "|  4 | 23,032.31        | graduacao            | blue          | F      |\n",
        "|  5 | 24,936.22        | mestrado             | blue          | F      |\n",
        "|  6 | 26,053.49        | doutorado            | blue          | F      |\n",
        "|  7 | 26,181.89        | sem educacao formal  | blue          | F      |\n",
        "|  8 | 29,543.10        | ensino medio         | blue          | F      |\n",
        "|  9 | 30,310.45        | mestrado             | silver        | F      |\n",
        "| 10 | 34,516.16        | doutorado            | gold          | M      |\n",
        "\n",
        "> Dessa vez conseguimos perceber que não há clientes com cartão platinum dentre os menores limites.\n",
        "> Também foi possível perceber que a maioria dos menores limites são do sexo feminino enquanto nos maiores limites predomina o masculino.\n",
        "```"
      ],
      "metadata": {
        "id": "5tlZObhKEeAo"
      },
      "id": "5tlZObhKEeAo"
    },
    {
      "cell_type": "markdown",
      "source": [
        "**Quais as principais características dos clientes por faixa salarial?**\n",
        "```\n",
        "|   | salario_anual   | idade_media   | escolaridade_mais_comum   | sexo_mais_comum   |\n",
        "|---|-----------------|---------------|---------------------------|-------------------|\n",
        "| 1 | $120K +         | 47.87         | sem educacao formal       | M                 |\n",
        "| 2 | $40K - $60K     | 45.65         | sem educacao formal       | M                 |\n",
        "| 3 | $60K - $80K     | 45.26         | sem educacao formal       | M                 |\n",
        "| 4 | $80K - $120K    | 46.17         | sem educacao formal       | M                 |\n",
        "| 5 | menos que $40K  | 45.73         | sem educacao formal       | M                 |\n",
        "\n",
        "> Já haviamos observado que a idade não é tão conclusiva e que a maioria dos clientes é do sexo masculino.\n",
        "> Vamos analisar a escolaridade mais de perto.\n",
        "```"
      ],
      "metadata": {
        "id": "vcUY3bRtI9RE"
      },
      "id": "vcUY3bRtI9RE"
    },
    {
      "cell_type": "markdown",
      "source": [
        "A escolaridade mais comum em todas as faixas salariais é \"sem educação formal\". No entanto, isso não significa que ter uma escolaridade não impacte no salário. Mas para investigarmos isso teremos de calcular uma média para as faixas salariais, porém elas não estão em decimais, então vamos \"assumir\" uma média."
      ],
      "metadata": {
        "id": "MyXVnAriL5J0"
      },
      "id": "MyXVnAriL5J0"
    },
    {
      "cell_type": "markdown",
      "source": [
        "**A escolaridade afeta o salário?**\n",
        "```\n",
        "Query SELECT\n",
        "  escolaridade,\n",
        "  AVG(CASE\n",
        "    WHEN salario_anual = 'menos que $40K' THEN 30000\n",
        "    WHEN salario_anual = '$40K - $60K' THEN 50000\n",
        "    WHEN salario_anual = '$60K - $80K' THEN 70000\n",
        "    WHEN salario_anual = '$80K - $120K' THEN 100000\n",
        "    WHEN salario_anual = '$120K +' THEN 120000\n",
        "    ELSE 0\n",
        "  END) AS media_salario_aprox\n",
        "FROM credito\n",
        "WHERE escolaridade != 'na' AND salario_anual != 'na'\n",
        "GROUP BY escolaridade\n",
        "ORDER BY media_salario_aprox DESC;\n",
        "\n",
        "|    | escolaridade         | media_salario_aprox   |\n",
        "|---:|:---------------------|-----------------------|\n",
        "|  1 | graduacao            | 68,230.45             |\n",
        "|  2 | ensino medio         | 65,818.18             |\n",
        "|  3 | doutorado            | 64,759.62             |\n",
        "|  4 | mestrado             | 64,000.00             |\n",
        "|  5 | sem educacao formal  | 62,598.19             |\n",
        "\n",
        "> Observe que a média de salario aproximada, para a maioria dos clientes sem educação formal, é a mais baixa.\n",
        "> No geral, é inconclusivo se existe uma relação entre escolaridade e salário.\n",
        "```\n",
        "\n"
      ],
      "metadata": {
        "id": "qiKE5dlMMlsq"
      },
      "id": "qiKE5dlMMlsq"
    },
    {
      "cell_type": "markdown",
      "source": [
        "Para uma análise mais completa e precisa da relação entre idade e escolaridade com o salário, seria necessário levar em conta outros fatores, como experiência profissional, setor de trabalho, localização geográfica e demanda por habilidades específicas. Além disso, uma análise estatística mais avançada, como uma regressão linear, poderia ser aplicada para quantificar a influência da escolaridade no salário, controlando outros fatores."
      ],
      "metadata": {
        "id": "7Qbp5pg7OAsq"
      },
      "id": "7Qbp5pg7OAsq"
    },
    {
      "cell_type": "markdown",
      "source": [
        "**Será que as mulheres gastam mais?**\n",
        "```\n",
        "Query\n",
        "select max(valor_transacoes_12m) as maior_valor_gasto, avg(valor_transacoes_12m) as  media_valor_gasto, min(valor_transacoes_12m) as min_valor_gasto, sexo\n",
        "from credito\n",
        "group by sexo\n",
        "\n",
        "|   # | maior_valor_gasto   | media_valor_gasto   | min_valor_gasto   | sexo   |\n",
        "|---:|:---------------------|:--------------------|:------------------|:-------|\n",
        "|  1 | 4,686.93             | 1,807.97            | 530.36            | M      |\n",
        "|  2 | 4,776.58             | 1,839.62            | 510.16            | F      |\n",
        "\n",
        "> Apesar da diferença nos limites, os gastos são muito próximos.\n",
        "```"
      ],
      "metadata": {
        "id": "fdNTEZDSEjq_"
      },
      "id": "fdNTEZDSEjq_"
    },
    {
      "cell_type": "markdown",
      "source": [
        "**Por fim, o salário impacta no limite?**\n",
        "```\n",
        "Query\n",
        "select avg(qtd_produtos) as qts_produtos, avg(valor_transacoes_12m) as media_valor_transacoes, avg(limite_credito) as media_limite,  sexo,   salario_anual from credito\n",
        "where salario_anual != 'na'\n",
        "group by sexo, salario_anual\n",
        "order by avg(valor_transacoes_12m) desc\n",
        "\n",
        "|   # | qtd_produtos  | media_valor_transacoes   | media_limite   | sexo   |  salario_anual  |\n",
        "|---:|:---------------|:-------------------------|:---------------|:-------|:----------------|\n",
        "|  1 | 4.39           | 1,963.67                 | 3,452.40       | M      | menos que $40K  |\n",
        "|  2 | 4.29           | 1,878.30                 | 5,753.31       | M      | $40K - $60K     |\n",
        "|  3 | 4.41           | 1,845.13                 | 4,212.20       | F      | menos que $40K  |\n",
        "|  4 | 4.35           | 1,818.64                 | 9,096.03       | M      | $60K - $80K     |\n",
        "|  5 | 4.44           | 1,781.43                 | 4,773.45       | F      | $40K - $60K     |\n",
        "|  6 | 4.33           | 1,755.25                 | 14,886.56      | M      | $80K - $120K    |\n",
        "|  7 | 4.33           | 1,701.47                 | 17,801.49      | M      | $120K +         |\n",
        "\n",
        ">As pessoas que tem a menor faixa salarial também apresentam menor limite de credito!\n",
        "```"
      ],
      "metadata": {
        "id": "tdryt0W6Em5d"
      },
      "id": "tdryt0W6Em5d"
    },
    {
      "cell_type": "markdown",
      "id": "7bd2151a",
      "metadata": {
        "papermill": {
          "duration": 0.002826,
          "end_time": "2021-07-20T20:16:13.396381",
          "exception": false,
          "start_time": "2021-07-20T20:16:13.393555",
          "status": "completed"
        },
        "tags": [],
        "id": "7bd2151a"
      },
      "source": [
        "# Conclusão\n",
        "\n",
        "Essas foram **algumas** análises extraídas do dataset de crédito.  \n",
        "\n",
        "Alguns insights interessantes:\n",
        "\n",
        "- A maior parte dos clientes(1.628) possui renda anual acima dos 40 mil dólares. Mas estão destribuidos em diferentes faixas salariais.\n",
        "- A maior concentração de clientes em uma única faixa salarial é de 701 clientes, que recebem abaixo dos $40.000.\n",
        "- A idade e escolaridade **aparentam**¹ não influenciar no limite, salario anual e nem no tipo do cartão.\n",
        "- Os clientes com maiores limites são em sua maioria do sexo masculino.\n",
        "- Os clientes com menores limites são em sua maioria do sexo feminino.\n",
        "- Dentre os menores limites não há presença de cartão platinum\n",
        "- A faixa salarial impacta diretamente no limite de crédito\n",
        "- Não existem clientes com salário anual acima de 60K do sexo feminino\n",
        "\n",
        "**Nota¹:** Para uma análise mais completa e precisa da relação entre idade e escolaridade com o salário, seria necessário levar em conta outros fatores, como experiência profissional, setor de trabalho, localização geográfica e demanda por habilidades específicas. Além disso, uma análise estatística mais avançada, como uma regressão linear, poderia ser aplicada para quantificar a influência da escolaridade no salário, controlando outros fatores.\n",
        "\n",
        "Poderia ser interessante para a empresa desenvolver campanhas e estratégias focadas no grupo de clientes que estão na menor faixa salarial. Sabemos que em sua maioria são clientes do sexo feminino, a média de suas idades, e que recebem os menores salários e tem o menor crédito.\n",
        "\n",
        "Os dados nos mostram um possível reflexo cultural da nossa sociedade se refletindo na desigualdade de salários entre homens e mulheres. Mas isso também requer uma análise mais extensa como observei na **Nota¹**.\n"
      ]
    }
  ],
  "metadata": {
    "kernelspec": {
      "display_name": "Python 3",
      "language": "python",
      "name": "python3"
    },
    "language_info": {
      "codemirror_mode": {
        "name": "ipython",
        "version": 3
      },
      "file_extension": ".py",
      "mimetype": "text/x-python",
      "name": "python",
      "nbconvert_exporter": "python",
      "pygments_lexer": "ipython3",
      "version": "3.7.10"
    },
    "papermill": {
      "default_parameters": {},
      "duration": 9.822258,
      "end_time": "2021-07-20T20:16:14.798746",
      "environment_variables": {},
      "exception": null,
      "input_path": "__notebook__.ipynb",
      "output_path": "__notebook__.ipynb",
      "parameters": {},
      "start_time": "2021-07-20T20:16:04.976488",
      "version": "2.3.3"
    },
    "colab": {
      "provenance": []
    }
  },
  "nbformat": 4,
  "nbformat_minor": 5
}